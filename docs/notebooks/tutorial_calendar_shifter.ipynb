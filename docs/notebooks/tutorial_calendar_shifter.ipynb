{
 "cells": [
  {
   "cell_type": "markdown",
   "metadata": {},
   "source": [
    "## Shifted calendars \n",
    "In s2s weather forecasting modelling we often use a calendar type that 'rolls' forward \n",
    "over time.\n",
    "\n",
    "For example, we wish to forecast temperature for every week of June and July with a two \n",
    "week leadtime, keeping that leadtime constant. \n",
    "\n",
    "This imitates an Numerical Weather Prediction (NWP) model that is initiated every week.\n",
    "\n",
    "Another example could be that we wish to investigate the influence of intraseasonal \n",
    "variability of one of our precursors over time.\n",
    "\n",
    "With `s2spy.calendar_shifter`, the user can easily create calendars that suit these needs.\n",
    "This notebook shows how to:\n",
    "  * Shift a calendar n number of times and return a list of those calendars\n",
    "  * Resample a dataset to those calendars resulting in an `xarray.Dataset`\n",
    "    where the data is concatenated along a new dimension with default name 'step'\n",
    "\n",
    "Note that the anchor year for every target period is kept the same relative to the first\n",
    "calendar. Even if a target period is shifted to the next year, the anchor year of the \n",
    "target period stays the same."
   ]
  },
  {
   "cell_type": "code",
   "execution_count": null,
   "metadata": {},
   "outputs": [],
   "source": [
    "import lilio\n",
    "import matplotlib.pyplot as plt\n",
    "import numpy as np\n",
    "import xarray as xr\n",
    "import pandas as pd"
   ]
  },
  {
   "cell_type": "markdown",
   "metadata": {},
   "source": [
    "Let's initiate a calendar with the following characteristics:\n",
    "  * starting on July 1st\n",
    "  * 1 target interval with 7 days length\n",
    "  * 4 precursor intervals of 7 days length\n",
    "  * 14 days leadtime between the target interval and first precusor interval"
   ]
  },
  {
   "cell_type": "code",
   "execution_count": null,
   "metadata": {},
   "outputs": [],
   "source": [
    "cal = lilio.Calendar(anchor='07-01')\n",
    "cal.add_intervals(\"target\", \"7d\")\n",
    "cal.add_intervals(\"precursor\", \"7d\", gap=\"14d\")\n",
    "cal.add_intervals(\"precursor\", \"7d\", n=3)\n",
    "cal.visualize(show_length=True)"
   ]
  },
  {
   "cell_type": "markdown",
   "metadata": {},
   "source": [
    "Then we build up a list of calendars. We shift (using `s2spy.calendar_shifter.staggered_calendar`) the initial calendar by 7 days three times such that we get four calendars:\n",
    "\n",
    "(note that the anchor date does not change, only the gaps relative to the anchor date change)"
   ]
  },
  {
   "cell_type": "code",
   "execution_count": null,
   "metadata": {},
   "outputs": [],
   "source": [
    "cal_list =  lilio.calendar_shifter.staggered_calendar(cal, shift='7d', n_shifts=3)"
   ]
  },
  {
   "cell_type": "markdown",
   "metadata": {},
   "source": [
    "We map all the calendars to some year (2021) before visualizing:"
   ]
  },
  {
   "cell_type": "code",
   "execution_count": null,
   "metadata": {},
   "outputs": [],
   "source": [
    "for cal in cal_list:\n",
    "    cal.map_years(2021,2021)\n",
    "    \n",
    "fig, axes = plt.subplots(nrows=len(cal_list), sharex=True, figsize=(8,6))\n",
    "for i, cal in enumerate(cal_list):\n",
    "    cal.visualize(n_years=1, relative_dates=False, show_length=True, ax=axes[i])\n",
    "axes[-1].set_xlim([np.datetime64(\"2021-05-12\"), np.datetime64(\"2021-08-01\")])\n",
    "fig.autofmt_xdate()"
   ]
  },
  {
   "cell_type": "markdown",
   "metadata": {},
   "source": [
    "Before resampling, we make a dummy dataset:"
   ]
  },
  {
   "cell_type": "code",
   "execution_count": null,
   "metadata": {},
   "outputs": [],
   "source": [
    "time_index = pd.date_range('20160101', '20211231', freq='1d')\n",
    "ds = xr.Dataset(\n",
    "    data_vars=dict(data=('time', np.random.random(len(time_index)))),\n",
    "    coords=dict(time=time_index)\n",
    ")\n",
    "ds"
   ]
  },
  {
   "cell_type": "markdown",
   "metadata": {},
   "source": [
    "Resample by using the `s2spy.calendar_shifter.calendar_list_resampler` function.\n",
    "\n",
    "Before we resample, it is important to map our calendar to the desired years. Before, we mapped it to the year\n",
    "it to 2021. Now, we can set it to other years using:\n",
    "\n",
    "```py\n",
    "for cal in cal_list:\n",
    "    cal.map_years(2018,2021)\n",
    "```\n",
    "\n",
    "or we use the cal.map_to_data function to map our calendar to the dummy dataset:\n",
    "\n",
    "```py\n",
    "for cal in cal_list:\n",
    "    cal.map_to_data(ds)\n",
    "```"
   ]
  },
  {
   "cell_type": "markdown",
   "metadata": {},
   "source": [
    "Map to data:"
   ]
  },
  {
   "cell_type": "code",
   "execution_count": null,
   "metadata": {},
   "outputs": [],
   "source": [
    "for cal in cal_list:\n",
    "    cal.map_to_data(ds)"
   ]
  },
  {
   "cell_type": "markdown",
   "metadata": {},
   "source": [
    "Now we we have to resample `ds` to all the calendars in `cal_list` using \n",
    "`s2spy.time.resample`.\n",
    "\n",
    "We can do that with a simple list comprehension:"
   ]
  },
  {
   "cell_type": "code",
   "execution_count": null,
   "metadata": {},
   "outputs": [],
   "source": [
    "ds_r_list = [lilio.resample(cal, ds) for cal in cal_list]"
   ]
  },
  {
   "cell_type": "markdown",
   "metadata": {},
   "source": [
    "If you wish to also concatenate all resampled data to one `xr.Dataset`, we can use the \n",
    "built-in `s2spy.calendar_shifter.calendar_list_resampler` function which resamples the \n",
    "data to all the calendars in cal_list and concatenates these datasets along a new \n",
    "dimension (default name is 'step')."
   ]
  },
  {
   "cell_type": "code",
   "execution_count": null,
   "metadata": {},
   "outputs": [],
   "source": [
    "ds_r = lilio.calendar_shifter.calendar_list_resampler(cal_list, ds)\n",
    "ds_r"
   ]
  }
 ],
 "metadata": {
  "kernelspec": {
   "display_name": "lilio",
   "language": "python",
   "name": "python3"
  },
  "language_info": {
   "codemirror_mode": {
    "name": "ipython",
    "version": 3
   },
   "file_extension": ".py",
   "mimetype": "text/x-python",
   "name": "python",
   "nbconvert_exporter": "python",
   "pygments_lexer": "ipython3",
   "version": "3.10.5"
  },
  "orig_nbformat": 4,
  "vscode": {
   "interpreter": {
    "hash": "1ad84d851b7a3d072f2b3778c2795859f5c348aba25460fe1ff63101a851e075"
   }
  }
 },
 "nbformat": 4,
 "nbformat_minor": 2
}
