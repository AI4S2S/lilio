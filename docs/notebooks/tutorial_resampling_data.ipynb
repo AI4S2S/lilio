{
 "cells": [
  {
   "attachments": {},
   "cell_type": "markdown",
   "metadata": {},
   "source": [
    "# Resampling data\n",
    "\n",
    "This notebook will demonstrate how to resample data with Lilio.\n",
    "Lilio is able to resample Pandas' `DataFrame` and `Series`, as well as xarray's `DataArray` and `Dataset`.\n",
    "\n",
    "We start by importing the required libraries and generating an example Pandas Series and a DataFrame"
   ]
  },
  {
   "cell_type": "code",
   "execution_count": null,
   "metadata": {},
   "outputs": [],
   "source": [
    "import numpy as np\n",
    "import xarray as xr\n",
    "import pandas as pd\n",
    "import lilio\n",
    "\n",
    "time_index = pd.date_range('20171020', '20211001', freq='15d')\n",
    "random_data = np.random.random(len(time_index))\n",
    "example_series = pd.Series(random_data, index=time_index)\n",
    "example_dataframe = pd.DataFrame(example_series.rename('data1'))\n",
    "example_dataframe['data2'] = example_dataframe['data1']\n",
    "\n",
    "example_series.head(3)"
   ]
  },
  {
   "cell_type": "markdown",
   "metadata": {},
   "source": [
    "The DataFrame looks similar but has two named columns:"
   ]
  },
  {
   "cell_type": "code",
   "execution_count": null,
   "metadata": {},
   "outputs": [],
   "source": [
    "example_dataframe.head(3)"
   ]
  },
  {
   "attachments": {},
   "cell_type": "markdown",
   "metadata": {},
   "source": [
    "To resample we need to set up an calendar with the anchor date and frequency.\n",
    "In this case we choose to use the `daily_calendar` shorthand.\n",
    "\n",
    "(Passing `max_lag` is optional, as well as `allow_overlap`, but this will allow us to demonstrate that resampling works even when intervals overlap)"
   ]
  },
  {
   "cell_type": "code",
   "execution_count": null,
   "metadata": {},
   "outputs": [],
   "source": [
    "calendar = lilio.daily_calendar(\n",
    "    anchor=\"10-15\",\n",
    "    length='90d',\n",
    "    n_precursors=4,\n",
    "    allow_overlap=True\n",
    ")\n",
    "calendar.map_years(2018, 2020)\n",
    "calendar.visualize()"
   ]
  },
  {
   "attachments": {},
   "cell_type": "markdown",
   "metadata": {},
   "source": [
    "Next we pass the example data to the `resample` function. This requires a mapped calendar and the input data.\n",
    "\n",
    "By default, `resample` will take the mean of all datapoints that fall within each interval. However, many other statistics are available, such as `min`, `max`, `median`, `std`, etc. For a full list see the docstring with:\n",
    "```py\n",
    "help(lilio.resample)\n",
    "```"
   ]
  },
  {
   "cell_type": "code",
   "execution_count": null,
   "metadata": {},
   "outputs": [],
   "source": [
    "resampled_series = lilio.resample(calendar, example_series, how=\"mean\")\n",
    "resampled_series"
   ]
  },
  {
   "attachments": {},
   "cell_type": "markdown",
   "metadata": {},
   "source": [
    "As you see above, this generates a new DataFrame containing the data resampled for each interval, along with the corresponding interval index, and the anchor year that the interval belongs to.\n",
    "\n",
    "This works the same if you input a pandas DataFrame:"
   ]
  },
  {
   "cell_type": "code",
   "execution_count": null,
   "metadata": {},
   "outputs": [],
   "source": [
    "resampled_dataframe = lilio.resample(calendar, example_dataframe)\n",
    "resampled_dataframe"
   ]
  },
  {
   "attachments": {},
   "cell_type": "markdown",
   "metadata": {},
   "source": [
    "## Resampling `xarray` data\n",
    "\n",
    "Resampling works the same for an `xarray` `Dataset`. Let's make an example dataset with latitude and longitude coordinates:"
   ]
  },
  {
   "cell_type": "code",
   "execution_count": null,
   "metadata": {},
   "outputs": [],
   "source": [
    "import xarray as xr\n",
    "\n",
    "time_index = pd.date_range('20171020', '20211001', freq='15d')\n",
    "\n",
    "np.random.seed(0)\n",
    "temperature = 15 + 8 * np.random.randn(2, 2, len(time_index))\n",
    "precipitation = 10 * np.random.rand(2, 2, len(time_index))\n",
    "\n",
    "lon = [[-99.83, -99.32], [-99.79, -99.23]]\n",
    "lat = [[42.25, 42.21], [42.63, 42.59]]\n",
    "\n",
    "\n",
    "ds = xr.Dataset(\n",
    "    data_vars=dict(\n",
    "        temperature=([\"x\", \"y\", \"time\"], temperature),\n",
    "        precipitation=([\"x\", \"y\", \"time\"], precipitation),\n",
    "    ),\n",
    "    coords=dict(\n",
    "        lon=([\"x\", \"y\"], lon),\n",
    "        lat=([\"x\", \"y\"], lat),\n",
    "        time=time_index,\n",
    "    ),\n",
    "    attrs=dict(description=\"Weather related data.\"),\n",
    ")\n",
    "ds"
   ]
  },
  {
   "cell_type": "markdown",
   "metadata": {},
   "source": [
    "As you see below, the `temperature` and `precipitation` variables can \n",
    "easily be resampled to a new index using the calendar specified intervals.\n",
    "\n",
    "This index dimension has as coordinates the anchor year and the interval count.\n",
    "\n",
    "\n",
    "\n",
    "Note: both the `temperature` and `precipitation` variables have kept their \n",
    "`lat` and `lon` coordinates."
   ]
  },
  {
   "cell_type": "code",
   "execution_count": null,
   "metadata": {},
   "outputs": [],
   "source": [
    "ds_r = lilio.resample(calendar, ds)\n",
    "ds_r"
   ]
  },
  {
   "attachments": {},
   "cell_type": "markdown",
   "metadata": {},
   "source": [
    "## Calculating bin counts\n",
    "To check if you have sufficient data for each of the Calendar's intervals, you can make use of `resample(how=\"size\")`. This will give you the number of data points that are within each interval.\n",
    "\n",
    "Especially when the intervals are of varying sizes, or your data is more sparse, then this can be very useful.\n",
    "\n",
    "As an example, let's make a calendar with varyingly sized intervals:"
   ]
  },
  {
   "cell_type": "code",
   "execution_count": null,
   "metadata": {},
   "outputs": [],
   "source": [
    "calendar = lilio.Calendar(anchor=\"10-15\")\n",
    "calendar.add_intervals(\"target\", length=\"5d\")\n",
    "calendar.add_intervals(\"precursor\", length=\"1d\")\n",
    "calendar.add_intervals(\"precursor\", length=\"3d\")\n",
    "calendar.add_intervals(\"precursor\", length=\"10d\")\n",
    "calendar.map_years(2018, 2018)\n",
    "calendar.visualize()"
   ]
  },
  {
   "attachments": {},
   "cell_type": "markdown",
   "metadata": {},
   "source": [
    "Now if we resample a dataset with a 1-day frequency, using `how=\"size\"`, you can see that the smallest interval contains only a single data point, while the largest interval contains ten.\n",
    "\n",
    "Some of the resampling methods (such as \"min\" or \"std\") of course would not make sense with such few data points per interval."
   ]
  },
  {
   "cell_type": "code",
   "execution_count": null,
   "metadata": {},
   "outputs": [],
   "source": [
    "time_index = pd.date_range('20171020', '20191001', freq='1d')\n",
    "random_data = np.random.random(len(time_index))\n",
    "example_series = pd.Series(random_data, index=time_index)\n",
    "example_dataframe = pd.DataFrame(example_series.rename('data1'))\n",
    "\n",
    "lilio.resample(calendar, example_dataframe, how=\"size\")"
   ]
  },
  {
   "attachments": {},
   "cell_type": "markdown",
   "metadata": {},
   "source": [
    "## Custom resampling methods\n",
    "The `how` argument also accepts any function with a single input and a single output argument. This allows you to use custom defined functions to resample the data. \n",
    "\n",
    "For example:"
   ]
  },
  {
   "cell_type": "code",
   "execution_count": null,
   "metadata": {},
   "outputs": [],
   "source": [
    "def root_mean_squared(data):\n",
    "    return np.mean(data ** 2) ** 0.5\n",
    "\n",
    "lilio.resample(calendar, example_dataframe, how=root_mean_squared)"
   ]
  },
  {
   "cell_type": "code",
   "execution_count": null,
   "metadata": {},
   "outputs": [],
   "source": []
  }
 ],
 "metadata": {
  "kernelspec": {
   "display_name": "lilio",
   "language": "python",
   "name": "python3"
  },
  "language_info": {
   "codemirror_mode": {
    "name": "ipython",
    "version": 3
   },
   "file_extension": ".py",
   "mimetype": "text/x-python",
   "name": "python",
   "nbconvert_exporter": "python",
   "pygments_lexer": "ipython3",
   "version": "3.10.5"
  },
  "orig_nbformat": 4,
  "vscode": {
   "interpreter": {
    "hash": "1ad84d851b7a3d072f2b3778c2795859f5c348aba25460fe1ff63101a851e075"
   }
  }
 },
 "nbformat": 4,
 "nbformat_minor": 2
}
