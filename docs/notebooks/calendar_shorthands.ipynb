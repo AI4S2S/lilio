{
 "cells": [
  {
   "attachments": {},
   "cell_type": "markdown",
   "metadata": {},
   "source": [
    "# Calendar shorthands\n",
    "\n",
    "While Lilio's `Calendar` allows you to fully customize a calendar to your specific use-case, sometimes a quick way to create a calendar is nice.\n",
    "To this end, we have included some calendar \"shorthands\", to quickly generate calendars with basic parameters.\n",
    "\n",
    "These are the following:\n",
    " - `daily_calendar`\n",
    " - `weekly_calendar`\n",
    " - `monthly_calendar`\n",
    "\n",
    "Let's start with the `daily_calendar`. This calendar revolves around defining the anchor as a certain date (e.g. 25 December), and lengths as a number of days.\n",
    "\n",
    "In the following example, we count down to Christmas, with seven precursor periods preceding the target:"
   ]
  },
  {
   "cell_type": "code",
   "execution_count": 1,
   "metadata": {},
   "outputs": [
    {
     "data": {
      "text/plain": [
       "Calendar(\n",
       "    anchor='12-25',\n",
       "    allow_overlap=False,\n",
       "    mapping=None,\n",
       "    intervals=[\n",
       "        Interval(role='target', length='1d', gap='0d'),\n",
       "        Interval(role='precursor', length='1d', gap='0d'),\n",
       "        Interval(role='precursor', length='1d', gap='0d'),\n",
       "        Interval(role='precursor', length='1d', gap='0d'),\n",
       "        Interval(role='precursor', length='1d', gap='0d'),\n",
       "        Interval(role='precursor', length='1d', gap='0d'),\n",
       "        Interval(role='precursor', length='1d', gap='0d'),\n",
       "        Interval(role='precursor', length='1d', gap='0d')\n",
       "    ]\n",
       ")"
      ]
     },
     "execution_count": 1,
     "metadata": {},
     "output_type": "execute_result"
    }
   ],
   "source": [
    "import lilio\n",
    "\n",
    "lilio.daily_calendar(\n",
    "    anchor=\"12-25\",\n",
    "    length=\"1d\",\n",
    "    n_precursors=7,  # Number of precursor periods\n",
    ")"
   ]
  },
  {
   "attachments": {},
   "cell_type": "markdown",
   "metadata": {},
   "source": [
    "The weekly calendar revolves around calendar weeks.\n",
    "This means that you need to specify a week number (and optionally a weekday) as anchor.\n",
    "\n",
    "Note that if no `n_precursors` is specified, the calendar tries to fill a year. In this case that means six 8-week periods:"
   ]
  },
  {
   "cell_type": "code",
   "execution_count": 5,
   "metadata": {},
   "outputs": [
    {
     "data": {
      "text/html": [
       "<div>\n",
       "<style scoped>\n",
       "    .dataframe tbody tr th:only-of-type {\n",
       "        vertical-align: middle;\n",
       "    }\n",
       "\n",
       "    .dataframe tbody tr th {\n",
       "        vertical-align: top;\n",
       "    }\n",
       "\n",
       "    .dataframe thead th {\n",
       "        text-align: right;\n",
       "    }\n",
       "</style>\n",
       "<table border=\"1\" class=\"dataframe\">\n",
       "  <thead>\n",
       "    <tr style=\"text-align: right;\">\n",
       "      <th>i_interval</th>\n",
       "      <th>-5</th>\n",
       "      <th>-4</th>\n",
       "      <th>-3</th>\n",
       "      <th>-2</th>\n",
       "      <th>-1</th>\n",
       "      <th>1</th>\n",
       "    </tr>\n",
       "    <tr>\n",
       "      <th>anchor_year</th>\n",
       "      <th></th>\n",
       "      <th></th>\n",
       "      <th></th>\n",
       "      <th></th>\n",
       "      <th></th>\n",
       "      <th></th>\n",
       "    </tr>\n",
       "  </thead>\n",
       "  <tbody>\n",
       "    <tr>\n",
       "      <th>2020</th>\n",
       "      <td>[2020-01-02, 2020-02-27)</td>\n",
       "      <td>[2020-02-27, 2020-04-23)</td>\n",
       "      <td>[2020-04-23, 2020-06-18)</td>\n",
       "      <td>[2020-06-18, 2020-08-13)</td>\n",
       "      <td>[2020-08-13, 2020-10-08)</td>\n",
       "      <td>[2020-10-08, 2020-12-03)</td>\n",
       "    </tr>\n",
       "  </tbody>\n",
       "</table>\n",
       "</div>"
      ],
      "text/plain": [
       "i_interval                         -5                        -4  \\\n",
       "anchor_year                                                       \n",
       "2020         [2020-01-02, 2020-02-27)  [2020-02-27, 2020-04-23)   \n",
       "\n",
       "i_interval                         -3                        -2  \\\n",
       "anchor_year                                                       \n",
       "2020         [2020-04-23, 2020-06-18)  [2020-06-18, 2020-08-13)   \n",
       "\n",
       "i_interval                         -1                         1  \n",
       "anchor_year                                                      \n",
       "2020         [2020-08-13, 2020-10-08)  [2020-10-08, 2020-12-03)  "
      ]
     },
     "execution_count": 5,
     "metadata": {},
     "output_type": "execute_result"
    }
   ],
   "source": [
    "cal = lilio.weekly_calendar(\n",
    "    anchor=\"W40-4\",\n",
    "    length=\"8W\",\n",
    ")\n",
    "cal.map_years(2020, 2020)\n",
    "cal.show()"
   ]
  },
  {
   "attachments": {},
   "cell_type": "markdown",
   "metadata": {},
   "source": [
    "Lastly there is the `monthly_calendar`. This is the same as the previous calendars, except it revolves around months.\n",
    "\n",
    "Here we can also demonstrate what happens when we want more precursors than what would fit in a year:"
   ]
  },
  {
   "cell_type": "code",
   "execution_count": 8,
   "metadata": {},
   "outputs": [
    {
     "data": {
      "text/html": [
       "<div>\n",
       "<style scoped>\n",
       "    .dataframe tbody tr th:only-of-type {\n",
       "        vertical-align: middle;\n",
       "    }\n",
       "\n",
       "    .dataframe tbody tr th {\n",
       "        vertical-align: top;\n",
       "    }\n",
       "\n",
       "    .dataframe thead th {\n",
       "        text-align: right;\n",
       "    }\n",
       "</style>\n",
       "<table border=\"1\" class=\"dataframe\">\n",
       "  <thead>\n",
       "    <tr style=\"text-align: right;\">\n",
       "      <th>i_interval</th>\n",
       "      <th>-2</th>\n",
       "      <th>-1</th>\n",
       "      <th>1</th>\n",
       "      <th>2</th>\n",
       "    </tr>\n",
       "    <tr>\n",
       "      <th>anchor_year</th>\n",
       "      <th></th>\n",
       "      <th></th>\n",
       "      <th></th>\n",
       "      <th></th>\n",
       "    </tr>\n",
       "  </thead>\n",
       "  <tbody>\n",
       "    <tr>\n",
       "      <th>2020</th>\n",
       "      <td>[2020-04-01, 2020-08-01)</td>\n",
       "      <td>[2020-08-01, 2020-12-01)</td>\n",
       "      <td>[2020-12-01, 2021-04-01)</td>\n",
       "      <td>[2021-04-01, 2021-08-01)</td>\n",
       "    </tr>\n",
       "    <tr>\n",
       "      <th>2018</th>\n",
       "      <td>[2018-04-01, 2018-08-01)</td>\n",
       "      <td>[2018-08-01, 2018-12-01)</td>\n",
       "      <td>[2018-12-01, 2019-04-01)</td>\n",
       "      <td>[2019-04-01, 2019-08-01)</td>\n",
       "    </tr>\n",
       "  </tbody>\n",
       "</table>\n",
       "</div>"
      ],
      "text/plain": [
       "i_interval                         -2                        -1  \\\n",
       "anchor_year                                                       \n",
       "2020         [2020-04-01, 2020-08-01)  [2020-08-01, 2020-12-01)   \n",
       "2018         [2018-04-01, 2018-08-01)  [2018-08-01, 2018-12-01)   \n",
       "\n",
       "i_interval                          1                         2  \n",
       "anchor_year                                                      \n",
       "2020         [2020-12-01, 2021-04-01)  [2021-04-01, 2021-08-01)  \n",
       "2018         [2018-12-01, 2019-04-01)  [2019-04-01, 2019-08-01)  "
      ]
     },
     "execution_count": 8,
     "metadata": {},
     "output_type": "execute_result"
    }
   ],
   "source": [
    "cal = lilio.monthly_calendar(\n",
    "    anchor=\"Dec\",\n",
    "    length='4M',\n",
    "    n_targets=2,\n",
    "    n_precursors=2,\n",
    ")\n",
    "cal.map_years(2018, 2020)\n",
    "cal.show()"
   ]
  },
  {
   "attachments": {},
   "cell_type": "markdown",
   "metadata": {},
   "source": [
    "The calendar will have the specified number of periods, but skips an anchor year to avoid overlapping intervals.\n",
    "\n",
    "If you do want overlapping intervals (and take care of the possibility of train-test leakage), set `allow_overlap` to `True`:"
   ]
  },
  {
   "cell_type": "code",
   "execution_count": 9,
   "metadata": {},
   "outputs": [
    {
     "data": {
      "text/html": [
       "<div>\n",
       "<style scoped>\n",
       "    .dataframe tbody tr th:only-of-type {\n",
       "        vertical-align: middle;\n",
       "    }\n",
       "\n",
       "    .dataframe tbody tr th {\n",
       "        vertical-align: top;\n",
       "    }\n",
       "\n",
       "    .dataframe thead th {\n",
       "        text-align: right;\n",
       "    }\n",
       "</style>\n",
       "<table border=\"1\" class=\"dataframe\">\n",
       "  <thead>\n",
       "    <tr style=\"text-align: right;\">\n",
       "      <th>i_interval</th>\n",
       "      <th>-2</th>\n",
       "      <th>-1</th>\n",
       "      <th>1</th>\n",
       "      <th>2</th>\n",
       "    </tr>\n",
       "    <tr>\n",
       "      <th>anchor_year</th>\n",
       "      <th></th>\n",
       "      <th></th>\n",
       "      <th></th>\n",
       "      <th></th>\n",
       "    </tr>\n",
       "  </thead>\n",
       "  <tbody>\n",
       "    <tr>\n",
       "      <th>2020</th>\n",
       "      <td>[2020-04-01, 2020-08-01)</td>\n",
       "      <td>[2020-08-01, 2020-12-01)</td>\n",
       "      <td>[2020-12-01, 2021-04-01)</td>\n",
       "      <td>[2021-04-01, 2021-08-01)</td>\n",
       "    </tr>\n",
       "    <tr>\n",
       "      <th>2019</th>\n",
       "      <td>[2019-04-01, 2019-08-01)</td>\n",
       "      <td>[2019-08-01, 2019-12-01)</td>\n",
       "      <td>[2019-12-01, 2020-04-01)</td>\n",
       "      <td>[2020-04-01, 2020-08-01)</td>\n",
       "    </tr>\n",
       "    <tr>\n",
       "      <th>2018</th>\n",
       "      <td>[2018-04-01, 2018-08-01)</td>\n",
       "      <td>[2018-08-01, 2018-12-01)</td>\n",
       "      <td>[2018-12-01, 2019-04-01)</td>\n",
       "      <td>[2019-04-01, 2019-08-01)</td>\n",
       "    </tr>\n",
       "  </tbody>\n",
       "</table>\n",
       "</div>"
      ],
      "text/plain": [
       "i_interval                         -2                        -1  \\\n",
       "anchor_year                                                       \n",
       "2020         [2020-04-01, 2020-08-01)  [2020-08-01, 2020-12-01)   \n",
       "2019         [2019-04-01, 2019-08-01)  [2019-08-01, 2019-12-01)   \n",
       "2018         [2018-04-01, 2018-08-01)  [2018-08-01, 2018-12-01)   \n",
       "\n",
       "i_interval                          1                         2  \n",
       "anchor_year                                                      \n",
       "2020         [2020-12-01, 2021-04-01)  [2021-04-01, 2021-08-01)  \n",
       "2019         [2019-12-01, 2020-04-01)  [2020-04-01, 2020-08-01)  \n",
       "2018         [2018-12-01, 2019-04-01)  [2019-04-01, 2019-08-01)  "
      ]
     },
     "execution_count": 9,
     "metadata": {},
     "output_type": "execute_result"
    }
   ],
   "source": [
    "cal = lilio.monthly_calendar(\n",
    "    anchor=\"Dec\",\n",
    "    length='4M',\n",
    "    n_targets=2,\n",
    "    n_precursors=2,\n",
    "    allow_overlap=True,\n",
    ")\n",
    "cal.map_years(2018, 2020)\n",
    "cal.show()"
   ]
  },
  {
   "cell_type": "code",
   "execution_count": null,
   "metadata": {},
   "outputs": [],
   "source": []
  }
 ],
 "metadata": {
  "kernelspec": {
   "display_name": "lilio",
   "language": "python",
   "name": "python3"
  },
  "language_info": {
   "codemirror_mode": {
    "name": "ipython",
    "version": 3
   },
   "file_extension": ".py",
   "mimetype": "text/x-python",
   "name": "python",
   "nbconvert_exporter": "python",
   "pygments_lexer": "ipython3",
   "version": "3.10.5"
  },
  "orig_nbformat": 4,
  "vscode": {
   "interpreter": {
    "hash": "1ad84d851b7a3d072f2b3778c2795859f5c348aba25460fe1ff63101a851e075"
   }
  }
 },
 "nbformat": 4,
 "nbformat_minor": 2
}
