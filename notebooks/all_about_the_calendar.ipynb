{
 "cells": [
  {
   "attachments": {},
   "cell_type": "markdown",
   "metadata": {},
   "source": [
    "## Presenting the Calendar! 📅\n",
    "\n",
    "To explain some of the terminology used in this package, the image below can be used as reference.\n",
    "\n",
    "The calendar system revolves around so-called \"anchor dates\" and \"anchor years\". The **anchor date** is (generally) the start of the period you want to forecast. I.e. your target data. The anchor date is an abstract date, and does not include a year. For example, 5 June, or 25 December 🎄.\n",
    "\n",
    "**Anchor years** are used to create a full date with the anchor date (e.g., 25 December 2022), and to group the calendar intervals together.\n",
    "\n",
    "Two types of intervals exist. First are the **target intervals**, which is generally what you want to predict or forecast. The other type are **precursor intervals**, intervals preceding the anchor date representing the data that you would like to use to forecast the target interval.\n",
    "\n",
    "![Calendar Illustration](../notebooks/calendar_drawing.PNG)"
   ]
  },
  {
   "attachments": {},
   "cell_type": "markdown",
   "metadata": {},
   "source": [
    "### Using the calendar\n",
    "First we import the package, and create an empty calendar with the anchor date 25 December:"
   ]
  },
  {
   "cell_type": "code",
   "execution_count": 2,
   "metadata": {},
   "outputs": [
    {
     "data": {
      "text/plain": [
       "Calendar(\n",
       "    anchor='12-25',\n",
       "    allow_overlap=False,\n",
       "    mapping=None,\n",
       "    intervals=None\n",
       ")"
      ]
     },
     "execution_count": 2,
     "metadata": {},
     "output_type": "execute_result"
    }
   ],
   "source": [
    "import lilio.time\n",
    "cal = lilio.time.Calendar(\"12-25\")  # 🎄🎅\n",
    "cal"
   ]
  },
  {
   "cell_type": "code",
   "execution_count": 4,
   "metadata": {},
   "outputs": [
    {
     "data": {
      "image/png": "[encoded data removed]",
      "text/plain": [
       "<Figure size 700x400 with 1 Axes>"
      ]
     },
     "metadata": {},
     "output_type": "display_data"
    }
   ],
   "source": [
    "from lilio import time\n",
    "custom_cal_pre = time.Calendar(anchor=\"12-31\")\n",
    "custom_cal_pre.add_intervals(\"precursor\", \"10d\")\n",
    "custom_cal_tar = time.Calendar(anchor=\"12-31\")\n",
    "custom_cal_tar.add_intervals(\"target\", \"10d\")\n",
    "\n",
    "calendars = [\n",
    "    time.AdventCalendar(anchor=\"12-31\", freq=\"60d\"),\n",
    "    time.MonthlyCalendar(anchor=\"December\", freq=\"1M\"),\n",
    "    time.WeeklyCalendar(anchor=\"W40\", freq=\"2W\"),\n",
    "    custom_cal_pre,\n",
    "    custom_cal_tar,\n",
    "]\n",
    "\n",
    "for cal_ in calendars:\n",
    "    cal.visualize(interactive=False, relative_dates=True)"
   ]
  },
  {
   "attachments": {},
   "cell_type": "markdown",
   "metadata": {},
   "source": [
    "To this calendar we can add an interval, in this case a \"target\" interval which we want to use as our target data.\n",
    "\n",
    "Note that when calling `add_intervals`, the default `n` (number of intervals) is 1."
   ]
  },
  {
   "cell_type": "code",
   "execution_count": 2,
   "metadata": {},
   "outputs": [],
   "source": [
    "cal.add_intervals(\"target\", length=\"1d\")"
   ]
  },
  {
   "attachments": {},
   "cell_type": "markdown",
   "metadata": {},
   "source": [
    "When viewing the calendar, you can see that the calendar now contains this interval"
   ]
  },
  {
   "cell_type": "code",
   "execution_count": 3,
   "metadata": {},
   "outputs": [
    {
     "data": {
      "text/plain": [
       "Calendar(\n",
       "    anchor='12-25',\n",
       "    allow_overlap=False,\n",
       "    mapping=None,\n",
       "    intervals=[\n",
       "        Interval(role='target', length='1d', gap='0d')\n",
       "    ]\n",
       ")"
      ]
     },
     "execution_count": 3,
     "metadata": {},
     "output_type": "execute_result"
    }
   ],
   "source": [
    "cal"
   ]
  },
  {
   "attachments": {},
   "cell_type": "markdown",
   "metadata": {},
   "source": [
    "However, this calendar is not mapped to any years yet. Before we can view which dates are represented by each interval, we have to map the calendar:"
   ]
  },
  {
   "cell_type": "code",
   "execution_count": 4,
   "metadata": {},
   "outputs": [
    {
     "data": {
      "text/plain": [
       "Calendar(\n",
       "    anchor='12-25',\n",
       "    allow_overlap=False,\n",
       "    mapping=('years', 2021, 2022),\n",
       "    intervals=[\n",
       "        Interval(role='target', length='1d', gap='0d')\n",
       "    ]\n",
       ")"
      ]
     },
     "execution_count": 4,
     "metadata": {},
     "output_type": "execute_result"
    }
   ],
   "source": [
    "cal.map_years(start=2021, end=2022)"
   ]
  },
  {
   "attachments": {},
   "cell_type": "markdown",
   "metadata": {},
   "source": [
    "Now we can call `.show()` and view the intervals generated. A table is returned, showing the anchor year(s) on the vertical axis and the intervals on the horizontal index, sorted by their interval index (`i_interval`)."
   ]
  },
  {
   "cell_type": "code",
   "execution_count": 5,
   "metadata": {},
   "outputs": [
    {
     "data": {
      "text/html": [
       "<div>\n",
       "<style scoped>\n",
       "    .dataframe tbody tr th:only-of-type {\n",
       "        vertical-align: middle;\n",
       "    }\n",
       "\n",
       "    .dataframe tbody tr th {\n",
       "        vertical-align: top;\n",
       "    }\n",
       "\n",
       "    .dataframe thead th {\n",
       "        text-align: right;\n",
       "    }\n",
       "</style>\n",
       "<table border=\"1\" class=\"dataframe\">\n",
       "  <thead>\n",
       "    <tr style=\"text-align: right;\">\n",
       "      <th>i_interval</th>\n",
       "      <th>1</th>\n",
       "    </tr>\n",
       "    <tr>\n",
       "      <th>anchor_year</th>\n",
       "      <th></th>\n",
       "    </tr>\n",
       "  </thead>\n",
       "  <tbody>\n",
       "    <tr>\n",
       "      <th>2022</th>\n",
       "      <td>[2022-12-25, 2022-12-26)</td>\n",
       "    </tr>\n",
       "    <tr>\n",
       "      <th>2021</th>\n",
       "      <td>[2021-12-25, 2021-12-26)</td>\n",
       "    </tr>\n",
       "  </tbody>\n",
       "</table>\n",
       "</div>"
      ],
      "text/plain": [
       "i_interval                          1\n",
       "anchor_year                          \n",
       "2022         [2022-12-25, 2022-12-26)\n",
       "2021         [2021-12-25, 2021-12-26)"
      ]
     },
     "execution_count": 5,
     "metadata": {},
     "output_type": "execute_result"
    }
   ],
   "source": [
    "cal.show()"
   ]
  },
  {
   "attachments": {},
   "cell_type": "markdown",
   "metadata": {},
   "source": [
    "We can add some precursor periods, and inspect the table again. We can add multiple intervals using the `n` keyword argument.\n",
    "\n",
    "Note that the target interval has a positive index, while the precursors have negative indices."
   ]
  },
  {
   "cell_type": "code",
   "execution_count": 6,
   "metadata": {},
   "outputs": [
    {
     "data": {
      "text/html": [
       "<div>\n",
       "<style scoped>\n",
       "    .dataframe tbody tr th:only-of-type {\n",
       "        vertical-align: middle;\n",
       "    }\n",
       "\n",
       "    .dataframe tbody tr th {\n",
       "        vertical-align: top;\n",
       "    }\n",
       "\n",
       "    .dataframe thead th {\n",
       "        text-align: right;\n",
       "    }\n",
       "</style>\n",
       "<table border=\"1\" class=\"dataframe\">\n",
       "  <thead>\n",
       "    <tr style=\"text-align: right;\">\n",
       "      <th>i_interval</th>\n",
       "      <th>-6</th>\n",
       "      <th>-5</th>\n",
       "      <th>-4</th>\n",
       "      <th>-3</th>\n",
       "      <th>-2</th>\n",
       "      <th>-1</th>\n",
       "      <th>1</th>\n",
       "    </tr>\n",
       "    <tr>\n",
       "      <th>anchor_year</th>\n",
       "      <th></th>\n",
       "      <th></th>\n",
       "      <th></th>\n",
       "      <th></th>\n",
       "      <th></th>\n",
       "      <th></th>\n",
       "      <th></th>\n",
       "    </tr>\n",
       "  </thead>\n",
       "  <tbody>\n",
       "    <tr>\n",
       "      <th>2022</th>\n",
       "      <td>[2022-12-19, 2022-12-20)</td>\n",
       "      <td>[2022-12-20, 2022-12-21)</td>\n",
       "      <td>[2022-12-21, 2022-12-22)</td>\n",
       "      <td>[2022-12-22, 2022-12-23)</td>\n",
       "      <td>[2022-12-23, 2022-12-24)</td>\n",
       "      <td>[2022-12-24, 2022-12-25)</td>\n",
       "      <td>[2022-12-25, 2022-12-26)</td>\n",
       "    </tr>\n",
       "    <tr>\n",
       "      <th>2021</th>\n",
       "      <td>[2021-12-19, 2021-12-20)</td>\n",
       "      <td>[2021-12-20, 2021-12-21)</td>\n",
       "      <td>[2021-12-21, 2021-12-22)</td>\n",
       "      <td>[2021-12-22, 2021-12-23)</td>\n",
       "      <td>[2021-12-23, 2021-12-24)</td>\n",
       "      <td>[2021-12-24, 2021-12-25)</td>\n",
       "      <td>[2021-12-25, 2021-12-26)</td>\n",
       "    </tr>\n",
       "  </tbody>\n",
       "</table>\n",
       "</div>"
      ],
      "text/plain": [
       "i_interval                         -6                        -5  \\\n",
       "anchor_year                                                       \n",
       "2022         [2022-12-19, 2022-12-20)  [2022-12-20, 2022-12-21)   \n",
       "2021         [2021-12-19, 2021-12-20)  [2021-12-20, 2021-12-21)   \n",
       "\n",
       "i_interval                         -4                        -3  \\\n",
       "anchor_year                                                       \n",
       "2022         [2022-12-21, 2022-12-22)  [2022-12-22, 2022-12-23)   \n",
       "2021         [2021-12-21, 2021-12-22)  [2021-12-22, 2021-12-23)   \n",
       "\n",
       "i_interval                         -2                        -1  \\\n",
       "anchor_year                                                       \n",
       "2022         [2022-12-23, 2022-12-24)  [2022-12-24, 2022-12-25)   \n",
       "2021         [2021-12-23, 2021-12-24)  [2021-12-24, 2021-12-25)   \n",
       "\n",
       "i_interval                          1  \n",
       "anchor_year                            \n",
       "2022         [2022-12-25, 2022-12-26)  \n",
       "2021         [2021-12-25, 2021-12-26)  "
      ]
     },
     "execution_count": 6,
     "metadata": {},
     "output_type": "execute_result"
    }
   ],
   "source": [
    "cal.add_intervals(\"precursor\", length=\"1d\", n=6)\n",
    "cal.show()"
   ]
  },
  {
   "attachments": {},
   "cell_type": "markdown",
   "metadata": {},
   "source": [
    "Besides a table view, the calendar can also be visualized in a plot. The default plotting backend is matplotlib (as in the image below).\n",
    "\n",
    "An interactive 'bokeh' plot, containing more information on the intervals, is also available. It is used by calling `.visualize(interactive=True)`. Do note that bokeh needs to be installed for this to work."
   ]
  },
  {
   "cell_type": "code",
   "execution_count": 7,
   "metadata": {},
   "outputs": [
    {
     "data": {
      "image/png": "[encoded data removed]",
      "text/plain": [
       "<Figure size 504x288 with 1 Axes>"
      ]
     },
     "metadata": {
      "needs_background": "light"
     },
     "output_type": "display_data"
    }
   ],
   "source": [
    "cal.visualize(n_years=1, add_legend=True, show_length=True)"
   ]
  },
  {
   "attachments": {},
   "cell_type": "markdown",
   "metadata": {},
   "source": [
    "For inputs such as `length`, you can use either days (`\"10d\"`), weeks (`\"3W\"`) or months (`\"1M\"`)."
   ]
  },
  {
   "cell_type": "code",
   "execution_count": 8,
   "metadata": {},
   "outputs": [],
   "source": [
    "cal.add_intervals(\"precursor\", length=\"1M\", n=2)"
   ]
  },
  {
   "attachments": {},
   "cell_type": "markdown",
   "metadata": {},
   "source": [
    "Note that in the visualization below, the length of the large precursor blocks is 31 and 30 days respectively, this is due to the input length of `1M`, and the months not having the same lengths"
   ]
  },
  {
   "cell_type": "code",
   "execution_count": 9,
   "metadata": {},
   "outputs": [
    {
     "data": {
      "image/png": "[encoded data removed]",
      "text/plain": [
       "<Figure size 504x288 with 1 Axes>"
      ]
     },
     "metadata": {
      "needs_background": "light"
     },
     "output_type": "display_data"
    }
   ],
   "source": [
    "cal.visualize(n_years=1, add_legend=False, show_length=True)"
   ]
  },
  {
   "attachments": {},
   "cell_type": "markdown",
   "metadata": {},
   "source": [
    "Last but not least, are gaps. Gaps can be inserted between the previous interval and the new one:"
   ]
  },
  {
   "cell_type": "code",
   "execution_count": 10,
   "metadata": {},
   "outputs": [
    {
     "data": {
      "image/png": "[encoded data removed]",
      "text/plain": [
       "<Figure size 504x288 with 1 Axes>"
      ]
     },
     "metadata": {
      "needs_background": "light"
     },
     "output_type": "display_data"
    }
   ],
   "source": [
    "cal.add_intervals(\"precursor\", length=\"1M\", gap=\"1M\")\n",
    "cal.visualize(n_years=1, add_legend=False, show_length=True)"
   ]
  },
  {
   "attachments": {},
   "cell_type": "markdown",
   "metadata": {},
   "source": [
    "Note that these gaps can also be negative. This makes the new interval overlap with the previous one."
   ]
  },
  {
   "cell_type": "code",
   "execution_count": 11,
   "metadata": {},
   "outputs": [
    {
     "data": {
      "image/png": "[encoded data removed]",
      "text/plain": [
       "<Figure size 504x288 with 1 Axes>"
      ]
     },
     "metadata": {
      "needs_background": "light"
     },
     "output_type": "display_data"
    }
   ],
   "source": [
    "cal.add_intervals(\"precursor\", length=\"1M\", gap=\"-2W\")\n",
    "cal.visualize(n_years=1, add_legend=False, show_length=True)"
   ]
  },
  {
   "attachments": {},
   "cell_type": "markdown",
   "metadata": {},
   "source": [
    "### Using the \"repr\" to reproduce calendars 📜\n",
    "When you just call the calendar, as in the cell below, the calendar will return a string **repr**esentation of itself. This is enough information to completely rebuild the calendar, so it can be used as a way to store or share a specific calendar."
   ]
  },
  {
   "cell_type": "code",
   "execution_count": 12,
   "metadata": {},
   "outputs": [
    {
     "data": {
      "text/plain": [
       "Calendar(\n",
       "    anchor='06-01',\n",
       "    allow_overlap=False,\n",
       "    mapping=('years', 2020, 2022),\n",
       "    intervals=[\n",
       "        Interval(role='target', length='1d', gap='0d'),\n",
       "        Interval(role='precursor', length='7d', gap='1M')\n",
       "    ]\n",
       ")"
      ]
     },
     "execution_count": 12,
     "metadata": {},
     "output_type": "execute_result"
    }
   ],
   "source": [
    "cal = s2spy.time.Calendar(\"06-01\") \n",
    "cal.map_years(2020, 2022)\n",
    "cal.add_intervals(\"target\", \"1d\")\n",
    "cal.add_intervals(\"precursor\", \"7d\", \"1M\")\n",
    "cal"
   ]
  },
  {
   "attachments": {},
   "cell_type": "markdown",
   "metadata": {},
   "source": [
    "Here we copy-paste the calendar, and we import the required classes from `s2spy.time`. Note that it reproduces itself when you call `cal`"
   ]
  },
  {
   "cell_type": "code",
   "execution_count": 13,
   "metadata": {},
   "outputs": [
    {
     "data": {
      "text/plain": [
       "Calendar(\n",
       "    anchor='06-01',\n",
       "    allow_overlap=False,\n",
       "    mapping=('years', 2020, 2022),\n",
       "    intervals=[\n",
       "        Interval(role='target', length='1d', gap='0d'),\n",
       "        Interval(role='precursor', length='7d', gap='1M')\n",
       "    ]\n",
       ")"
      ]
     },
     "execution_count": 13,
     "metadata": {},
     "output_type": "execute_result"
    }
   ],
   "source": [
    "from s2spy.time import Calendar, Interval\n",
    "Calendar(\n",
    "    anchor='06-01',\n",
    "    allow_overlap=False,\n",
    "    mapping=('years', 2020, 2022),\n",
    "    intervals=[\n",
    "        Interval(role='target', length='1d', gap='0d'),\n",
    "        Interval(role='precursor', length='7d', gap='1M')\n",
    "    ]\n",
    ")\n",
    "cal"
   ]
  },
  {
   "attachments": {},
   "cell_type": "markdown",
   "metadata": {},
   "source": [
    "### The `Interval` building block 🧱\n",
    "\n",
    "The basic building block of the Calendar is the **Interval**. Intervals have three properties: the type (target or precursor), the length, and the gap. The gap is defined as the gap between this interval and the preceding interval of the same type (or the anchor, if this interval is the first one)."
   ]
  },
  {
   "cell_type": "code",
   "execution_count": 14,
   "metadata": {},
   "outputs": [
    {
     "data": {
      "text/plain": [
       "Interval(role='target', length='5d', gap='1M')"
      ]
     },
     "execution_count": 14,
     "metadata": {},
     "output_type": "execute_result"
    }
   ],
   "source": [
    "iv = Interval(\"target\", length=\"5d\", gap=\"1M\")\n",
    "iv"
   ]
  },
  {
   "attachments": {},
   "cell_type": "markdown",
   "metadata": {},
   "source": [
    "Intervals can be changed in-place. Their gap and length can be set in the following way:"
   ]
  },
  {
   "cell_type": "code",
   "execution_count": 15,
   "metadata": {},
   "outputs": [
    {
     "data": {
      "text/plain": [
       "Interval(role='target', length='5d', gap='5d')"
      ]
     },
     "execution_count": 15,
     "metadata": {},
     "output_type": "execute_result"
    }
   ],
   "source": [
    "iv.gap = \"5d\"\n",
    "iv"
   ]
  },
  {
   "attachments": {},
   "cell_type": "markdown",
   "metadata": {},
   "source": [
    "### All about anchors ⚓\n",
    "\n",
    "As said before, the anchor date is one of the basic elements of the calendar. Up to now we have just showcased setting the anchor as a date (\"MM-DD\"), however, there are some alternative options.\n",
    "\n",
    "If you are interested in *only* months, it is possible to create a calendar revolving solely around calendar months. The anchor can be defined as an *English* month name (e.g., \"January\" or the short name \"Jan\"). This is equivalent to setting the anchor to the first day of that month. For example:"
   ]
  },
  {
   "cell_type": "code",
   "execution_count": 16,
   "metadata": {},
   "outputs": [
    {
     "data": {
      "text/html": [
       "<div>\n",
       "<style scoped>\n",
       "    .dataframe tbody tr th:only-of-type {\n",
       "        vertical-align: middle;\n",
       "    }\n",
       "\n",
       "    .dataframe tbody tr th {\n",
       "        vertical-align: top;\n",
       "    }\n",
       "\n",
       "    .dataframe thead th {\n",
       "        text-align: right;\n",
       "    }\n",
       "</style>\n",
       "<table border=\"1\" class=\"dataframe\">\n",
       "  <thead>\n",
       "    <tr style=\"text-align: right;\">\n",
       "      <th>i_interval</th>\n",
       "      <th>-11</th>\n",
       "      <th>-10</th>\n",
       "      <th>-9</th>\n",
       "      <th>-8</th>\n",
       "      <th>-7</th>\n",
       "      <th>-6</th>\n",
       "      <th>-5</th>\n",
       "      <th>-4</th>\n",
       "      <th>-3</th>\n",
       "      <th>-2</th>\n",
       "      <th>-1</th>\n",
       "      <th>1</th>\n",
       "    </tr>\n",
       "    <tr>\n",
       "      <th>anchor_year</th>\n",
       "      <th></th>\n",
       "      <th></th>\n",
       "      <th></th>\n",
       "      <th></th>\n",
       "      <th></th>\n",
       "      <th></th>\n",
       "      <th></th>\n",
       "      <th></th>\n",
       "      <th></th>\n",
       "      <th></th>\n",
       "      <th></th>\n",
       "      <th></th>\n",
       "    </tr>\n",
       "  </thead>\n",
       "  <tbody>\n",
       "    <tr>\n",
       "      <th>2022</th>\n",
       "      <td>[2022-01-01, 2022-02-01)</td>\n",
       "      <td>[2022-02-01, 2022-03-01)</td>\n",
       "      <td>[2022-03-01, 2022-04-01)</td>\n",
       "      <td>[2022-04-01, 2022-05-01)</td>\n",
       "      <td>[2022-05-01, 2022-06-01)</td>\n",
       "      <td>[2022-06-01, 2022-07-01)</td>\n",
       "      <td>[2022-07-01, 2022-08-01)</td>\n",
       "      <td>[2022-08-01, 2022-09-01)</td>\n",
       "      <td>[2022-09-01, 2022-10-01)</td>\n",
       "      <td>[2022-10-01, 2022-11-01)</td>\n",
       "      <td>[2022-11-01, 2022-12-01)</td>\n",
       "      <td>[2022-12-01, 2023-01-01)</td>\n",
       "    </tr>\n",
       "  </tbody>\n",
       "</table>\n",
       "</div>"
      ],
      "text/plain": [
       "i_interval                        -11                       -10  \\\n",
       "anchor_year                                                       \n",
       "2022         [2022-01-01, 2022-02-01)  [2022-02-01, 2022-03-01)   \n",
       "\n",
       "i_interval                        -9                        -8   \\\n",
       "anchor_year                                                       \n",
       "2022         [2022-03-01, 2022-04-01)  [2022-04-01, 2022-05-01)   \n",
       "\n",
       "i_interval                        -7                        -6   \\\n",
       "anchor_year                                                       \n",
       "2022         [2022-05-01, 2022-06-01)  [2022-06-01, 2022-07-01)   \n",
       "\n",
       "i_interval                        -5                        -4   \\\n",
       "anchor_year                                                       \n",
       "2022         [2022-07-01, 2022-08-01)  [2022-08-01, 2022-09-01)   \n",
       "\n",
       "i_interval                        -3                        -2   \\\n",
       "anchor_year                                                       \n",
       "2022         [2022-09-01, 2022-10-01)  [2022-10-01, 2022-11-01)   \n",
       "\n",
       "i_interval                        -1                         1   \n",
       "anchor_year                                                      \n",
       "2022         [2022-11-01, 2022-12-01)  [2022-12-01, 2023-01-01)  "
      ]
     },
     "execution_count": 16,
     "metadata": {},
     "output_type": "execute_result"
    }
   ],
   "source": [
    "cal = Calendar(anchor=\"December\")  # [December 01)\n",
    "cal.add_intervals(\"target\", \"1M\")\n",
    "cal.add_intervals(\"precursor\", \"1M\", n=11)\n",
    "cal.map_years(2022, 2022)\n",
    "cal.show()"
   ]
  },
  {
   "attachments": {},
   "cell_type": "markdown",
   "metadata": {},
   "source": [
    "Besides months, the calendar can also be used with **week numbers**. You can use either only a week number (\"W10\" for the 10th week of a year), or the combination of a week number and the day of the week (where Monday is 1 and Sunday 7). This can be especially useful with targets and precursor intervals that you would like to cover certain days of the week. For example:"
   ]
  },
  {
   "cell_type": "code",
   "execution_count": 17,
   "metadata": {},
   "outputs": [
    {
     "data": {
      "text/html": [
       "<div>\n",
       "<style scoped>\n",
       "    .dataframe tbody tr th:only-of-type {\n",
       "        vertical-align: middle;\n",
       "    }\n",
       "\n",
       "    .dataframe tbody tr th {\n",
       "        vertical-align: top;\n",
       "    }\n",
       "\n",
       "    .dataframe thead th {\n",
       "        text-align: right;\n",
       "    }\n",
       "</style>\n",
       "<table border=\"1\" class=\"dataframe\">\n",
       "  <thead>\n",
       "    <tr style=\"text-align: right;\">\n",
       "      <th>i_interval</th>\n",
       "      <th>-1</th>\n",
       "      <th>1</th>\n",
       "    </tr>\n",
       "    <tr>\n",
       "      <th>anchor_year</th>\n",
       "      <th></th>\n",
       "      <th></th>\n",
       "    </tr>\n",
       "  </thead>\n",
       "  <tbody>\n",
       "    <tr>\n",
       "      <th>2022</th>\n",
       "      <td>[2022-03-17, 2022-03-18)</td>\n",
       "      <td>[2022-03-25, 2022-03-26)</td>\n",
       "    </tr>\n",
       "    <tr>\n",
       "      <th>2021</th>\n",
       "      <td>[2021-03-18, 2021-03-19)</td>\n",
       "      <td>[2021-03-26, 2021-03-27)</td>\n",
       "    </tr>\n",
       "    <tr>\n",
       "      <th>2020</th>\n",
       "      <td>[2020-03-19, 2020-03-20)</td>\n",
       "      <td>[2020-03-27, 2020-03-28)</td>\n",
       "    </tr>\n",
       "    <tr>\n",
       "      <th>2019</th>\n",
       "      <td>[2019-03-21, 2019-03-22)</td>\n",
       "      <td>[2019-03-29, 2019-03-30)</td>\n",
       "    </tr>\n",
       "    <tr>\n",
       "      <th>2018</th>\n",
       "      <td>[2018-03-15, 2018-03-16)</td>\n",
       "      <td>[2018-03-23, 2018-03-24)</td>\n",
       "    </tr>\n",
       "  </tbody>\n",
       "</table>\n",
       "</div>"
      ],
      "text/plain": [
       "i_interval                         -1                         1\n",
       "anchor_year                                                    \n",
       "2022         [2022-03-17, 2022-03-18)  [2022-03-25, 2022-03-26)\n",
       "2021         [2021-03-18, 2021-03-19)  [2021-03-26, 2021-03-27)\n",
       "2020         [2020-03-19, 2020-03-20)  [2020-03-27, 2020-03-28)\n",
       "2019         [2019-03-21, 2019-03-22)  [2019-03-29, 2019-03-30)\n",
       "2018         [2018-03-15, 2018-03-16)  [2018-03-23, 2018-03-24)"
      ]
     },
     "execution_count": 17,
     "metadata": {},
     "output_type": "execute_result"
    }
   ],
   "source": [
    "Calendar(anchor=\"W12\")  # Week 12\n",
    "cal = Calendar(anchor=\"W12-5\")  # Friday on week 12\n",
    "cal.add_intervals(\"target\", \"1d\")\n",
    "cal.add_intervals(\"precursor\", \"1d\", gap=\"1W\")\n",
    "cal.map_years(2018, 2022)\n",
    "cal.show()"
   ]
  },
  {
   "attachments": {},
   "cell_type": "markdown",
   "metadata": {},
   "source": [
    "### Modifying calendars in-place 🏗️\n",
    "If you want to do *funkier* things with the calendar, you can edit already existing calendars 🔨👷‍♀️\n",
    "\n",
    "For example, the anchor of the calendar can be changed:"
   ]
  },
  {
   "cell_type": "code",
   "execution_count": 18,
   "metadata": {},
   "outputs": [
    {
     "data": {
      "text/plain": [
       "Calendar(\n",
       "    anchor='01-01',\n",
       "    allow_overlap=False,\n",
       "    mapping=('years', 2018, 2022),\n",
       "    intervals=[\n",
       "        Interval(role='target', length='1d', gap='0d'),\n",
       "        Interval(role='precursor', length='1d', gap='1W')\n",
       "    ]\n",
       ")"
      ]
     },
     "execution_count": 18,
     "metadata": {},
     "output_type": "execute_result"
    }
   ],
   "source": [
    "cal.anchor = \"01-01\"  # 🍾🥂\n",
    "cal"
   ]
  },
  {
   "attachments": {},
   "cell_type": "markdown",
   "metadata": {},
   "source": [
    "In this case, you do need to be careful when comparing two calendars, as data might have shifted to a different anchor year.\n",
    "\n",
    "Modifying the intervals is also possible. The precursors and target intervals are stored in lists, and can be changed in-place:"
   ]
  },
  {
   "cell_type": "code",
   "execution_count": 19,
   "metadata": {},
   "outputs": [
    {
     "data": {
      "text/plain": [
       "[Interval(role='precursor', length='1d', gap='1W')]"
      ]
     },
     "execution_count": 19,
     "metadata": {},
     "output_type": "execute_result"
    }
   ],
   "source": [
    "cal.precursors  # or cal.targets"
   ]
  },
  {
   "attachments": {},
   "cell_type": "markdown",
   "metadata": {},
   "source": [
    "Now let's change the gaps and lengths (for sake of demonstration):"
   ]
  },
  {
   "cell_type": "code",
   "execution_count": 20,
   "metadata": {},
   "outputs": [
    {
     "data": {
      "image/png": "[encoded data removed]",
      "text/plain": [
       "<Figure size 504x288 with 1 Axes>"
      ]
     },
     "metadata": {
      "needs_background": "light"
     },
     "output_type": "display_data"
    }
   ],
   "source": [
    "for precursor in cal.precursors:\n",
    "    precursor.gap = \"7d\"\n",
    "\n",
    "for target in cal.targets:\n",
    "    target.length=\"1M\"\n",
    "\n",
    "cal.map_years(2022, 2022)\n",
    "cal.visualize(add_legend=False, show_length=True)"
   ]
  },
  {
   "attachments": {},
   "cell_type": "markdown",
   "metadata": {},
   "source": [
    "A more useful trick can be modifying the `gap` property of only the *first* target and precursor intervals. This allows you to shift all intervals relative to the anchor date.\n",
    "\n",
    "This shifting is demonstrated below:"
   ]
  },
  {
   "cell_type": "code",
   "execution_count": 21,
   "metadata": {},
   "outputs": [
    {
     "data": {
      "image/png": "[encoded data removed]",
      "text/plain": [
       "<Figure size 432x288 with 2 Axes>"
      ]
     },
     "metadata": {
      "needs_background": "light"
     },
     "output_type": "display_data"
    }
   ],
   "source": [
    "import matplotlib.pyplot as plt\n",
    "import numpy as np\n",
    "\n",
    "cal = Calendar(\n",
    "    anchor='06-01',\n",
    "    allow_overlap=False,\n",
    "    mapping=('years', 2020, 2022),\n",
    "    intervals=[\n",
    "        Interval(role='target', length='1d', gap='0d'),\n",
    "        Interval(role='precursor', length='7d', gap='0d'),\n",
    "        Interval(role='precursor', length='7d', gap='0d')\n",
    "    ]\n",
    ")\n",
    "\n",
    "fig, (ax1, ax2) = plt.subplots(nrows=2)\n",
    "# Plot the original calendar\n",
    "cal.visualize(n_years=1, add_legend=False, show_length=True, ax=ax1)\n",
    "\n",
    "# Shift the calendar by a month\n",
    "cal.precursors[0].gap = \"1M\"\n",
    "cal.targets[0].gap = \"-1M\"\n",
    "\n",
    "# Plot the shifted calendar\n",
    "cal.visualize(n_years=1, add_legend=False, show_length=True, ax=ax2)\n",
    "\n",
    "# Make the plot pretty\n",
    "ax1.set_title(\"Original calendar\")\n",
    "ax2.set_title(\"Shifted calendar\")\n",
    "for ax in (ax1, ax2):\n",
    "    ax.set_xlim((np.datetime64(\"2022-04-15\"), np.datetime64(\"2022-06-05\")))\n",
    "fig.subplots_adjust(hspace=0.7)"
   ]
  },
  {
   "attachments": {},
   "cell_type": "markdown",
   "metadata": {},
   "source": [
    "#### Now you are ready to build your own calendar. We're curious to know what you come up with!"
   ]
  },
  {
   "cell_type": "markdown",
   "metadata": {},
   "source": []
  }
 ],
 "metadata": {
  "kernelspec": {
   "display_name": "lilio",
   "language": "python",
   "name": "python3"
  },
  "language_info": {
   "codemirror_mode": {
    "name": "ipython",
    "version": 3
   },
   "file_extension": ".py",
   "mimetype": "text/x-python",
   "name": "python",
   "nbconvert_exporter": "python",
   "pygments_lexer": "ipython3",
   "version": "3.10.5"
  },
  "orig_nbformat": 4,
  "vscode": {
   "interpreter": {
    "hash": "1ad84d851b7a3d072f2b3778c2795859f5c348aba25460fe1ff63101a851e075"
   }
  }
 },
 "nbformat": 4,
 "nbformat_minor": 2
}
