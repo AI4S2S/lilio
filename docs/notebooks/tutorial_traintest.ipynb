{
 "cells": [
  {
   "attachments": {},
   "cell_type": "markdown",
   "metadata": {},
   "source": [
    "# Train-test splitting with Calendars\n",
    "\n",
    "As the Lilio calendar system was designed with machine-learning in mind, a train-test module is included which aids in generating train/test splits.\n",
    "\n",
    "Currently this feature is only supported for `xarray` data.\n",
    "\n",
    "Let's start by generating some dummy data:"
   ]
  },
  {
   "cell_type": "code",
   "execution_count": null,
   "metadata": {},
   "outputs": [],
   "source": [
    "import numpy as np\n",
    "import pandas as pd\n",
    "import xarray as xr\n",
    "import lilio\n",
    "\n",
    "# Hide the full data when displaying a dataset in the notebook\n",
    "xr.set_options(display_expand_data=False) \n",
    "\n",
    "n = 50\n",
    "time_index = pd.date_range(\"20151020\", periods=n, freq=\"60d\")\n",
    "time_coord = {\"time\": time_index}\n",
    "x1 = xr.DataArray(np.random.randn(n), coords=time_coord, name=\"precursor1\")\n",
    "x2 = xr.DataArray(np.random.randn(n), coords=time_coord, name=\"precursor2\")\n",
    "y = xr.DataArray(np.random.randn(n), coords=time_coord, name=\"target\")\n",
    "print(x1)"
   ]
  },
  {
   "attachments": {},
   "cell_type": "markdown",
   "metadata": {},
   "source": [
    "Next we will need a calendar, and use it to resample the dummy data:"
   ]
  },
  {
   "cell_type": "code",
   "execution_count": null,
   "metadata": {},
   "outputs": [],
   "source": [
    "calendar = lilio.daily_calendar(anchor=\"10-15\", length=\"180d\")\n",
    "calendar.map_to_data(x1)\n",
    "x1 = lilio.resample(calendar, x1)\n",
    "x2 = lilio.resample(calendar, x2)\n",
    "y = lilio.resample(calendar, y)\n",
    "\n",
    "print(x1)"
   ]
  },
  {
   "attachments": {},
   "cell_type": "markdown",
   "metadata": {},
   "source": [
    "Now we are ready to create train and test splits of our data. We setup a strategy (`KFold`),\n",
    "and give this to `lilio.traintest.TrainTestSplit`.\n",
    "\n",
    "We can use this cross validator to split our datasets `x1` and `x2`, as well as the target data `y`:"
   ]
  },
  {
   "cell_type": "code",
   "execution_count": null,
   "metadata": {},
   "outputs": [],
   "source": [
    "# Cross-validation\n",
    "from sklearn.model_selection import KFold\n",
    "import lilio.traintest\n",
    "\n",
    "kfold = KFold(n_splits=3)\n",
    "cv = lilio.traintest.TrainTestSplit(kfold)\n",
    "for (x1_train, x2_train), (x1_test, x2_test), y_train, y_test in cv.split(x1, x2, y=y):\n",
    "    print(\"Train:\", x1_train.anchor_year.values)\n",
    "    print(\"Test:\", x1_test.anchor_year.values)\n",
    "\n",
    "print(x1_train)"
   ]
  },
  {
   "attachments": {},
   "cell_type": "markdown",
   "metadata": {},
   "source": [
    "With an alternative notation we can make this more compact:"
   ]
  },
  {
   "cell_type": "code",
   "execution_count": null,
   "metadata": {},
   "outputs": [],
   "source": [
    "# Alternative using shorthand notation\n",
    "x = [x1, x2]\n",
    "for x_train, x_test, y_train, y_test in cv.split(*x, y=y):\n",
    "    x1_train, x2_train = x_train\n",
    "    x1_test, x2_test = x_test\n",
    "    print(\"Train:\", x1_train.anchor_year.values)\n",
    "    print(\"Test:\", x1_test.anchor_year.values)"
   ]
  },
  {
   "attachments": {},
   "cell_type": "markdown",
   "metadata": {},
   "source": [
    "Now you are ready to train your models!"
   ]
  },
  {
   "cell_type": "markdown",
   "metadata": {},
   "source": []
  }
 ],
 "metadata": {
  "kernelspec": {
   "display_name": "lilio",
   "language": "python",
   "name": "python3"
  },
  "language_info": {
   "codemirror_mode": {
    "name": "ipython",
    "version": 3
   },
   "file_extension": ".py",
   "mimetype": "text/x-python",
   "name": "python",
   "nbconvert_exporter": "python",
   "pygments_lexer": "ipython3",
   "version": "3.10.5"
  },
  "vscode": {
   "interpreter": {
    "hash": "1ad84d851b7a3d072f2b3778c2795859f5c348aba25460fe1ff63101a851e075"
   }
  }
 },
 "nbformat": 4,
 "nbformat_minor": 4
}
